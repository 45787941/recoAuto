{
 "cells": [
  {
   "cell_type": "code",
   "execution_count": 2,
   "metadata": {},
   "outputs": [
    {
     "name": "stdout",
     "output_type": "stream",
     "text": [
      "Populating the interactive namespace from numpy and matplotlib\n"
     ]
    }
   ],
   "source": [
    "%pylab inline"
   ]
  },
  {
   "cell_type": "code",
   "execution_count": 74,
   "metadata": {},
   "outputs": [],
   "source": [
    "def lect(filename):\n",
    "    \"\"\"lis un fichier .raw et extrait les short signés\"\"\"\n",
    "    import struct\n",
    "    import os\n",
    "    vals = []\n",
    "    f = open(filename, \"rb\")\n",
    "    for i in range(0, int(os.stat(filename).st_size/2)):\n",
    "        vals.append(struct.unpack('<h', f.read(2))[0])\n",
    "    #print(vals)\n",
    "    return vals\n"
   ]
  },
  {
   "cell_type": "code",
   "execution_count": 72,
   "metadata": {},
   "outputs": [],
   "source": [
    "def zcrossing(sound):\n",
    "    \"\"\"calcul du taux de passage par 0\"\"\"\n",
    "    taux = 0\n",
    "    cpt = 0\n",
    "    while(sound[cpt] == 0):\n",
    "        cpt += 1\n",
    "    if(sound[cpt] > 0):\n",
    "        signe = 1\n",
    "    else:\n",
    "        signe = -1\n",
    "    for i in range(cpt, len(sound)):\n",
    "        if(sound[i] < 0 and signe == 1):\n",
    "            taux += 1\n",
    "            signe = -1\n",
    "        elif(sound[i] >= 0 and signe == -1):\n",
    "            taux += 1\n",
    "            signe = 1\n",
    "    taux = taux/len(sound)\n",
    "    return taux*100\n",
    "        "
   ]
  },
  {
   "cell_type": "code",
   "execution_count": 78,
   "metadata": {},
   "outputs": [
    {
     "data": {
      "text/plain": [
       "15.125"
      ]
     },
     "execution_count": 78,
     "metadata": {},
     "output_type": "execute_result"
    },
    {
     "data": {
      "image/png": "[encoded data removed]",
      "text/plain": [
       "<Figure size 432x288 with 1 Axes>"
      ]
     },
     "metadata": {},
     "output_type": "display_data"
    }
   ],
   "source": [
    "son = lect(\"/home/partage/I322/RAW/9.raw\")\n",
    "x = []\n",
    "for i in range(0, len(son)):\n",
    "    x.append(i)\n",
    "plot(x, son)\n",
    "zcrossing(son)"
   ]
  },
  {
   "cell_type": "code",
   "execution_count": null,
   "metadata": {},
   "outputs": [],
   "source": []
  }
 ],
 "metadata": {
  "kernelspec": {
   "display_name": "Python 3",
   "language": "python",
   "name": "python3"
  },
  "language_info": {
   "codemirror_mode": {
    "name": "ipython",
    "version": 3
   },
   "file_extension": ".py",
   "mimetype": "text/x-python",
   "name": "python",
   "nbconvert_exporter": "python",
   "pygments_lexer": "ipython3",
   "version": "3.6.5"
  }
 },
 "nbformat": 4,
 "nbformat_minor": 2
}
